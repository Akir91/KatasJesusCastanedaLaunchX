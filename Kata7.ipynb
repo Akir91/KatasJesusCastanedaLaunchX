{
 "cells": [
  {
   "cell_type": "code",
   "execution_count": null,
   "metadata": {},
   "outputs": [],
   "source": []
  },
  {
   "cell_type": "markdown",
   "metadata": {},
   "source": [
    "# Kata 7\n",
    "\n",
    "### Ejercicio 1:"
   ]
  },
  {
   "cell_type": "code",
   "execution_count": 3,
   "metadata": {},
   "outputs": [
    {
     "name": "stdout",
     "output_type": "stream",
     "text": [
      "['mercurio', 'venus', 'tierra']\n"
     ]
    }
   ],
   "source": [
    "#Declara variables\n",
    "planetas = []\n",
    "planeta = \"\"\n",
    "\n",
    "#Crear ciclo while para ingresar nombre de planetas\n",
    "\n",
    "while planeta. lower() != \"done\":\n",
    "    planeta = input(\"Ingresa el nombre del planeta o 'done' para terminar: \")\n",
    "    if planeta != \"done\":\n",
    "        planetas.append(planeta)\n",
    "\n",
    "print(planetas)"
   ]
  },
  {
   "cell_type": "markdown",
   "metadata": {},
   "source": [
    "### Ejercicio 2:"
   ]
  },
  {
   "cell_type": "code",
   "execution_count": 4,
   "metadata": {},
   "outputs": [
    {
     "name": "stdout",
     "output_type": "stream",
     "text": [
      "mercurio\n",
      "venus\n",
      "tierra\n"
     ]
    }
   ],
   "source": [
    "#Crear ciclo for para iterar lista planetas\n",
    "\n",
    "for planeta in planetas:\n",
    "    print(planeta)"
   ]
  }
 ],
 "metadata": {
  "interpreter": {
   "hash": "303b334fe24a82e81076ff2ec7c3c89372848788d82a9c926a8c967dc25cfa08"
  },
  "kernelspec": {
   "display_name": "Python 3.10.2 64-bit",
   "language": "python",
   "name": "python3"
  },
  "language_info": {
   "codemirror_mode": {
    "name": "ipython",
    "version": 3
   },
   "file_extension": ".py",
   "mimetype": "text/x-python",
   "name": "python",
   "nbconvert_exporter": "python",
   "pygments_lexer": "ipython3",
   "version": "3.10.2"
  },
  "orig_nbformat": 4
 },
 "nbformat": 4,
 "nbformat_minor": 2
}
