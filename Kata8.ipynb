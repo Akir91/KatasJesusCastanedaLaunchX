{
 "cells": [
  {
   "cell_type": "markdown",
   "metadata": {},
   "source": [
    "# Kata 8\n",
    "\n",
    "### Ejercicio 1:"
   ]
  },
  {
   "cell_type": "code",
   "execution_count": 49,
   "metadata": {},
   "outputs": [
    {
     "name": "stdout",
     "output_type": "stream",
     "text": [
      "Marte\n",
      "2\n"
     ]
    }
   ],
   "source": [
    "#Crear diccionario\n",
    "planet = {\n",
    "    \"name\": \"Marte\",\n",
    "    \"moons\": 2\n",
    "}\n",
    "\n",
    "#Muestra el nombre del planeta y el numero de lunas que tiene\n",
    "print(planet[\"name\"])\n",
    "print(planet[\"moons\"])"
   ]
  },
  {
   "cell_type": "code",
   "execution_count": 50,
   "metadata": {},
   "outputs": [
    {
     "name": "stdout",
     "output_type": "stream",
     "text": [
      "Marte - 6752\n"
     ]
    }
   ],
   "source": [
    "#Agrega la clave circunferencia con los siguientes datos\n",
    "#polar: 6752\n",
    "#equatorial: 6792\n",
    "planet[\"circunferencia (km)\"] = {\n",
    "    \"polar\": 6752,\n",
    "    \"equatorial\": 6792\n",
    "}\n",
    "\n",
    "#Imprime el nombre del planeta con su circunferencia polar.\n",
    "print(f\"\"\"{planet.get(\"name\")} - {planet[\"circunferencia (km)\"][\"polar\"]}\"\"\")\n"
   ]
  },
  {
   "cell_type": "markdown",
   "metadata": {},
   "source": [
    "### Ejercicio 2:"
   ]
  },
  {
   "cell_type": "code",
   "execution_count": 51,
   "metadata": {},
   "outputs": [
    {
     "name": "stdout",
     "output_type": "stream",
     "text": [
      "dict_values([0, 0, 1, 2, 79, 82, 27, 14, 5, 2, 1, 1])\n",
      "12\n"
     ]
    }
   ],
   "source": [
    "# Planets and moons\n",
    "planet_moons = {\n",
    "    'mercury': 0,\n",
    "    'venus': 0,\n",
    "    'earth': 1,\n",
    "    'mars': 2,\n",
    "    'jupiter': 79,\n",
    "    'saturn': 82,\n",
    "    'uranus': 27,\n",
    "    'neptune': 14,\n",
    "    'pluto': 5,\n",
    "    'haumea': 2,\n",
    "    'makemake': 1,\n",
    "    'eris': 1\n",
    "}\n",
    "\n",
    "# Obtenemos la lista de las lunas\n",
    "moons = planet_moons.values()\n",
    "print(moons)\n",
    "\n",
    "# Obtenemos el total de planetas\n",
    "planetas = len(planet_moons.keys())\n",
    "print(planetas)"
   ]
  },
  {
   "cell_type": "code",
   "execution_count": 52,
   "metadata": {},
   "outputs": [
    {
     "name": "stdout",
     "output_type": "stream",
     "text": [
      "Total de lunas: 214. El promedio de lunas por planeta es: 17.8\n"
     ]
    }
   ],
   "source": [
    "#Contar numero de lunas\n",
    "total = 0\n",
    "for value in moons:\n",
    "    total += value\n",
    "\n",
    "#Obtener promedio\n",
    "promedio = total / planetas\n",
    "\n",
    "#Mostrar resultados\n",
    "print(f\"Total de lunas: {total}. El promedio de lunas por planeta es: {round(promedio,1)}\")"
   ]
  }
 ],
 "metadata": {
  "interpreter": {
   "hash": "303b334fe24a82e81076ff2ec7c3c89372848788d82a9c926a8c967dc25cfa08"
  },
  "kernelspec": {
   "display_name": "Python 3.10.2 64-bit",
   "language": "python",
   "name": "python3"
  },
  "language_info": {
   "codemirror_mode": {
    "name": "ipython",
    "version": 3
   },
   "file_extension": ".py",
   "mimetype": "text/x-python",
   "name": "python",
   "nbconvert_exporter": "python",
   "pygments_lexer": "ipython3",
   "version": "3.10.2"
  },
  "orig_nbformat": 4
 },
 "nbformat": 4,
 "nbformat_minor": 2
}
