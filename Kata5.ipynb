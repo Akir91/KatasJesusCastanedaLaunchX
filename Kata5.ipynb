{
 "cells": [
  {
   "cell_type": "code",
   "execution_count": null,
   "metadata": {},
   "outputs": [],
   "source": []
  },
  {
   "cell_type": "markdown",
   "metadata": {},
   "source": [
    "# Kata 5\n",
    "\n",
    "### Ejercicio 1: "
   ]
  },
  {
   "cell_type": "code",
   "execution_count": 11,
   "metadata": {},
   "outputs": [],
   "source": [
    "#Crear variables\n",
    "tierra = 149597870\n",
    "jupiter = 778547200"
   ]
  },
  {
   "cell_type": "code",
   "execution_count": 12,
   "metadata": {},
   "outputs": [
    {
     "name": "stdout",
     "output_type": "stream",
     "text": [
      " La distancia es 628949330 Km, lo que equivale a 390577533.93 millas \n"
     ]
    }
   ],
   "source": [
    "#Distancia entre planetas\n",
    "d = abs(jupiter - tierra)\n",
    "print (f\"\"\" La distancia es {d} Km, lo que equivale a {d*0.621} millas \"\"\")"
   ]
  },
  {
   "cell_type": "markdown",
   "metadata": {},
   "source": [
    "### Ejercicio 2:"
   ]
  },
  {
   "cell_type": "code",
   "execution_count": 13,
   "metadata": {},
   "outputs": [
    {
     "name": "stdout",
     "output_type": "stream",
     "text": [
      " La distancia entre los planetas es 629000000 Km, lo que equivale a 390609000.0 millas \n"
     ]
    }
   ],
   "source": [
    "#Almacenar las entradas del usuario\n",
    "p1 = input(\"Introduce la distancia del sol al primer planeta en km: \")\n",
    "p2 = input(\"Introduce la distancia del sol al segundo planeta en km: \")\n",
    "\n",
    "#Realizar el calculo\n",
    "d = abs(int(p1) - int(p2))\n",
    "\n",
    "#Mostrar distancia entre planetas\n",
    "print (f\"\"\" La distancia entre los planetas es {d} Km, lo que equivale a {d*0.621} millas \"\"\")"
   ]
  }
 ],
 "metadata": {
  "interpreter": {
   "hash": "303b334fe24a82e81076ff2ec7c3c89372848788d82a9c926a8c967dc25cfa08"
  },
  "kernelspec": {
   "display_name": "Python 3.10.2 64-bit",
   "language": "python",
   "name": "python3"
  },
  "language_info": {
   "codemirror_mode": {
    "name": "ipython",
    "version": 3
   },
   "file_extension": ".py",
   "mimetype": "text/x-python",
   "name": "python",
   "nbconvert_exporter": "python",
   "pygments_lexer": "ipython3",
   "version": "3.10.2"
  },
  "orig_nbformat": 4
 },
 "nbformat": 4,
 "nbformat_minor": 2
}
